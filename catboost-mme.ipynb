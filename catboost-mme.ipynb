{
 "cells": [
  {
   "cell_type": "markdown",
   "id": "e4d68656",
   "metadata": {},
   "source": [
    "# Multi-Model Endpoint - CatBoost\n",
    "\n",
    "This example notebook will showcase how to use a custom container to host multiple CatBoost models. "
   ]
  },
  {
   "cell_type": "markdown",
   "id": "3bf19c1c",
   "metadata": {},
   "source": [
    "## Load model and test local inference\n",
    "\n",
    "Example model is taken from this [CatBoost tutorial](https://github.com/catboost/tutorials/blob/master/python_tutorial_with_tasks.ipynb). We will load up the model locally using `CatBoostClassifier()`. `test_data.csv` contains a single row of test inference data."
   ]
  },
  {
   "cell_type": "code",
   "execution_count": null,
   "id": "df6edefb",
   "metadata": {},
   "outputs": [],
   "source": [
    "!pip install catboost"
   ]
  },
  {
   "cell_type": "code",
   "execution_count": 3,
   "id": "c775ef0b",
   "metadata": {},
   "outputs": [],
   "source": [
    "from catboost import CatBoostClassifier, Pool as CatboostPool, cv\n",
    "import os\n",
    "import pandas\n",
    "model_file = CatBoostClassifier()\n",
    "model_file = model_file.load_model(\"catboost_model.bin\")\n",
    "df = pandas.read_csv(\"test_data.csv\")"
   ]
  },
  {
   "cell_type": "code",
   "execution_count": 5,
   "id": "fc77a80f",
   "metadata": {},
   "outputs": [
    {
     "name": "stdout",
     "output_type": "stream",
     "text": [
      "[[0.0203764 0.9796236]]\n"
     ]
    }
   ],
   "source": [
    "import pandas as pd\n",
    "import io\n",
    "import json\n",
    "\n",
    "out = model_file.predict_proba(df)\n",
    "print(out)"
   ]
  },
  {
   "cell_type": "markdown",
   "id": "ca0985e3",
   "metadata": {},
   "source": [
    "## Create a model tar ball\n",
    "\n",
    "SageMaker requires our model to be packaged in a tar.gz file."
   ]
  },
  {
   "cell_type": "code",
   "execution_count": 6,
   "id": "0a25e513",
   "metadata": {},
   "outputs": [
    {
     "name": "stdout",
     "output_type": "stream",
     "text": [
      "catboost_model.bin\n"
     ]
    }
   ],
   "source": [
    "! tar -czvf catboost-model.tar.gz catboost_model.bin"
   ]
  },
  {
   "cell_type": "markdown",
   "id": "0e99d1b2",
   "metadata": {},
   "source": [
    "## Upload 100 copies of the model to S3\n",
    "\n",
    "Multi-Model Endpoints require all our models to be in a specific S3 prefix. Here we upload 100 of them to our default bucket. "
   ]
  },
  {
   "cell_type": "code",
   "execution_count": null,
   "id": "02b86b8d",
   "metadata": {},
   "outputs": [],
   "source": [
    "import sagemaker\n",
    "\n",
    "sess = sagemaker.Session()\n",
    "s3_bucket=sess.default_bucket()  # Replace with your own bucket name if needed\n",
    "print(s3_bucket)"
   ]
  },
  {
   "cell_type": "markdown",
   "id": "2cf557e0",
   "metadata": {},
   "source": [
    "### Upload the model tar balls using boto3 with a unique name"
   ]
  },
  {
   "cell_type": "code",
   "execution_count": null,
   "id": "bd4c9279",
   "metadata": {},
   "outputs": [],
   "source": [
    "import boto3\n",
    "\n",
    "s3 = boto3.client('s3')\n",
    "for i in range(0,100):\n",
    "    with open(\"catboost-model.tar.gz\", \"rb\") as f:\n",
    "        s3.upload_fileobj(f, s3_bucket, \"catboost/catboost-model-{}.tar.gz\".format(i))\n"
   ]
  },
  {
   "cell_type": "markdown",
   "id": "e7057e8b",
   "metadata": {},
   "source": [
    "#### Upload the Bigger model"
   ]
  },
  {
   "cell_type": "code",
   "execution_count": 4,
   "id": "706812f0",
   "metadata": {},
   "outputs": [],
   "source": [
    "import boto3\n",
    "\n",
    "s3 = boto3.client('s3')\n",
    "for i in range(0,100):\n",
    "    with open(\"./models/catboost-model-big.tar.gz\", \"rb\") as f:\n",
    "        s3.upload_fileobj(f, s3_bucket, \"catboost/catboost-model-big-{}.tar.gz\".format(i))\n",
    "\n"
   ]
  },
  {
   "cell_type": "markdown",
   "id": "15b9245e",
   "metadata": {},
   "source": [
    "### List all models in s3 prefix we will use for our Multi-Model Endpoint"
   ]
  },
  {
   "cell_type": "code",
   "execution_count": null,
   "id": "3aac8f73",
   "metadata": {},
   "outputs": [],
   "source": [
    "!aws s3 ls s3://$s3_bucket/catboost/"
   ]
  },
  {
   "cell_type": "markdown",
   "id": "d7a1dd19",
   "metadata": {},
   "source": [
    "## Building the custom container"
   ]
  },
  {
   "cell_type": "markdown",
   "id": "cbfb0c3e",
   "metadata": {},
   "source": [
    "The container folder in this example contains 3 files:\n",
    "```\n",
    "├── container\n",
    "│   ├── dockerd-entrypoint.py\n",
    "│   ├── Dockerfile\n",
    "│   └── model_handler.py\n",
    "```\n",
    "\n",
    "- `dockerd-entrypoint.py` is the entry point script that will start the multi model server.\n",
    "- `Dockerfile` contains the container definition that will be used to assemble the image. This include the packages that need to be installed.\n",
    "- `model_handler.py` is the script that will contain the logic to load up the model and make inference.\n",
    "\n",
    "Take a look through the files to see if there is any customization that you would like to do.\n",
    "Below cells highlight the main part of the files. \n"
   ]
  },
  {
   "cell_type": "markdown",
   "id": "57508ead",
   "metadata": {},
   "source": [
    "### Install catboost in the `Dockerfile`"
   ]
  },
  {
   "cell_type": "code",
   "execution_count": null,
   "id": "0582d3a0",
   "metadata": {},
   "outputs": [],
   "source": [
    "! sed -n '26,30p' container/Dockerfile"
   ]
  },
  {
   "cell_type": "markdown",
   "id": "7cd5bda0",
   "metadata": {},
   "source": [
    "### Update `initialize` function in `model_handler.py` with logic to load up the model\n",
    "In this case we are using `CatBoostClassifier()`. Feel free to update the loading logic in this function to your needs."
   ]
  },
  {
   "cell_type": "code",
   "execution_count": null,
   "id": "ef96cae6",
   "metadata": {},
   "outputs": [],
   "source": [
    "! sed -n '22,40p' container/model_handler.py"
   ]
  },
  {
   "cell_type": "markdown",
   "id": "3a20b5c4",
   "metadata": {},
   "source": [
    "### Update `handle` function in `model_handler.py` with logic to load up the model"
   ]
  },
  {
   "cell_type": "code",
   "execution_count": null,
   "id": "90f35e01",
   "metadata": {},
   "outputs": [],
   "source": [
    "! sed -n '70,85p' container/model_handler.py"
   ]
  },
  {
   "cell_type": "markdown",
   "id": "a9e0af1a",
   "metadata": {},
   "source": [
    "### Build and Push custom image to ECR"
   ]
  },
  {
   "cell_type": "code",
   "execution_count": null,
   "id": "cf89da82",
   "metadata": {},
   "outputs": [],
   "source": [
    "%%sh\n",
    "\n",
    "# The name of our algorithm\n",
    "algorithm_name=catboost-sagemaker-multimodel\n",
    "\n",
    "cd container\n",
    "\n",
    "account=$(aws sts get-caller-identity --query Account --output text)\n",
    "\n",
    "# Get the region defined in the current configuration (default to us-west-2 if none defined)\n",
    "region=$(aws configure get region)\n",
    "region=${region:-us-east-1}\n",
    "\n",
    "fullname=\"${account}.dkr.ecr.${region}.amazonaws.com/${algorithm_name}:latest\"\n",
    "\n",
    "# If the repository doesn't exist in ECR, create it.\n",
    "aws ecr describe-repositories --repository-names \"${algorithm_name}\" > /dev/null 2>&1\n",
    "\n",
    "if [ $? -ne 0 ]\n",
    "then\n",
    "    aws ecr create-repository --repository-name \"${algorithm_name}\" > /dev/null\n",
    "fi\n",
    "\n",
    "# Get the login command from ECR and execute it directly\n",
    "$(aws ecr get-login --region ${region} --no-include-email)\n",
    "\n",
    "# Build the docker image locally with the image name and then push it to ECR\n",
    "# with the full name.\n",
    "\n",
    "docker build -q -t ${algorithm_name} .\n",
    "docker tag ${algorithm_name} ${fullname}\n",
    "\n",
    "docker push ${fullname}"
   ]
  },
  {
   "cell_type": "code",
   "execution_count": null,
   "id": "e6870f00",
   "metadata": {},
   "outputs": [],
   "source": [
    "import boto3\n",
    "from sagemaker import get_execution_role\n",
    "\n",
    "sm_client = boto3.client(service_name='sagemaker')\n",
    "runtime_sm_client = boto3.client(service_name='sagemaker-runtime')\n",
    "\n",
    "account_id = boto3.client('sts').get_caller_identity()['Account']\n",
    "region = boto3.Session().region_name\n",
    "\n",
    "role = get_execution_role()"
   ]
  },
  {
   "cell_type": "markdown",
   "id": "7d029fb2",
   "metadata": {},
   "source": [
    "### Create the SageMaker Multi-Model"
   ]
  },
  {
   "cell_type": "code",
   "execution_count": null,
   "id": "1addc1db",
   "metadata": {},
   "outputs": [],
   "source": [
    "from time import gmtime, strftime\n",
    "\n",
    "model_name = 'catboost-multimodel-' + strftime(\"%Y-%m-%d-%H-%M-%S\", gmtime())\n",
    "model_url = 's3://{}/catboost/'.format(s3_bucket) ## MODEL S3 URL\n",
    "container = '{}.dkr.ecr.{}.amazonaws.com/catboost-sagemaker-multimodel:latest'.format(account_id, region)\n",
    "instance_type = 'ml.m5.xlarge'\n",
    "\n",
    "print('Model name: ' + model_name)\n",
    "print('Model data Url: ' + model_url)\n",
    "print('Container image: ' + container)\n",
    "\n",
    "container = {\n",
    "    'Image': container,\n",
    "    'ModelDataUrl': model_url,\n",
    "    'Mode': 'MultiModel'\n",
    "}\n",
    "\n",
    "create_model_response = sm_client.create_model(\n",
    "    ModelName = model_name,\n",
    "    ExecutionRoleArn = role,\n",
    "    Containers = [container])\n",
    "\n",
    "print(\"Model Arn: \" + create_model_response['ModelArn'])"
   ]
  },
  {
   "cell_type": "markdown",
   "id": "b335e9f6",
   "metadata": {},
   "source": [
    "### Create the SageMaker Endpoint Configuration\n"
   ]
  },
  {
   "cell_type": "code",
   "execution_count": null,
   "id": "44e06e91",
   "metadata": {},
   "outputs": [],
   "source": [
    "endpoint_config_name = 'catboost-multimodel-config' + strftime(\"%Y-%m-%d-%H-%M-%S\", gmtime())\n",
    "print('Endpoint config name: ' + endpoint_config_name)\n",
    "\n",
    "create_endpoint_config_response = sm_client.create_endpoint_config(\n",
    "    EndpointConfigName = endpoint_config_name,\n",
    "    ProductionVariants=[{\n",
    "        'InstanceType': instance_type,\n",
    "        'InitialInstanceCount': 1,\n",
    "        'InitialVariantWeight': 1,\n",
    "        'ModelName': model_name,\n",
    "        'VariantName': 'AllTraffic'}])\n",
    "\n",
    "print(\"Endpoint config Arn: \" + create_endpoint_config_response['EndpointConfigArn'])"
   ]
  },
  {
   "cell_type": "markdown",
   "id": "60f7bd20",
   "metadata": {},
   "source": [
    "### Create the SageMaker Multi-Model Endpoint"
   ]
  },
  {
   "cell_type": "code",
   "execution_count": null,
   "id": "bec420a4",
   "metadata": {},
   "outputs": [],
   "source": [
    "%%time\n",
    "\n",
    "import time\n",
    "\n",
    "endpoint_name = 'catboost-multimodel-endpoint-' + strftime(\"%Y-%m-%d-%H-%M-%S\", gmtime())\n",
    "print('Endpoint name: ' + endpoint_name)\n",
    "\n",
    "create_endpoint_response = sm_client.create_endpoint(\n",
    "    EndpointName=endpoint_name,\n",
    "    EndpointConfigName=endpoint_config_name)\n",
    "print('Endpoint Arn: ' + create_endpoint_response['EndpointArn'])\n",
    "\n",
    "resp = sm_client.describe_endpoint(EndpointName=endpoint_name)\n",
    "status = resp['EndpointStatus']\n",
    "print(\"Endpoint Status: \" + status)\n",
    "\n",
    "print('Waiting for {} endpoint to be in service...'.format(endpoint_name))\n",
    "waiter = sm_client.get_waiter('endpoint_in_service')\n",
    "waiter.wait(EndpointName=endpoint_name)"
   ]
  },
  {
   "cell_type": "markdown",
   "id": "2abfe42c",
   "metadata": {},
   "source": [
    "### Invoke each of the 100 models"
   ]
  },
  {
   "cell_type": "code",
   "execution_count": null,
   "id": "1bad4e94",
   "metadata": {},
   "outputs": [],
   "source": [
    "for i in range (0,100):\n",
    "        response = runtime_sm_client.invoke_endpoint(\n",
    "                EndpointName=endpoint_name,\n",
    "                TargetModel=\"catboost-model-{}.tar.gz\".format(i),\n",
    "                Body=df.to_csv(index=False))\n",
    "        print(json.loads(response['Body'].read().decode('utf-8')))"
   ]
  },
  {
   "cell_type": "markdown",
   "id": "333a8951",
   "metadata": {},
   "source": [
    "*It is also possible to add new models on demand by uploading the tar balls to the S3 prefix*."
   ]
  },
  {
   "cell_type": "markdown",
   "id": "bda725d6",
   "metadata": {},
   "source": [
    "## Invoke \n",
    "Invoke the Bigger Model to Test same container managing multiple model types"
   ]
  },
  {
   "cell_type": "code",
   "execution_count": 1,
   "id": "4dac0c7b",
   "metadata": {},
   "outputs": [
    {
     "data": {
      "text/plain": [
       "2638"
      ]
     },
     "execution_count": 1,
     "metadata": {},
     "output_type": "execute_result"
    }
   ],
   "source": [
    "import pandas as pd\n",
    "continue_var = ['I' + str(i) for i in range(1, 14)]\n",
    "cat_features = ['C' + str(i) for i in range(1,27)]\n",
    "col_names = ['Label'] + continue_var + cat_features\n",
    "\n",
    "test_data_set_end_point = pd.read_csv('./data/dac_sample_small.txt', sep='\\t', names=col_names).fillna(0)\n",
    "test_data_set_end_point = test_data_set_end_point.iloc[:, 1:] # remove the LABEL for predictions \n",
    "\n",
    "payload=test_data_set_end_point.to_csv(index=False)\n",
    "len(payload)"
   ]
  },
  {
   "cell_type": "code",
   "execution_count": null,
   "id": "b6568a45",
   "metadata": {},
   "outputs": [],
   "source": [
    "for i in range (0,100):\n",
    "        response = runtime_sm_client.invoke_endpoint(\n",
    "                EndpointName=endpoint_name,\n",
    "                TargetModel=\"catboost-model-big-{}.tar.gz\".format(i),\n",
    "                Body=payload)\n",
    "        print(json.loads(response['Body'].read().decode('utf-8')))"
   ]
  }
 ],
 "metadata": {
  "kernelspec": {
   "display_name": "conda_pytorch_p36",
   "language": "python",
   "name": "conda_pytorch_p36"
  },
  "language_info": {
   "codemirror_mode": {
    "name": "ipython",
    "version": 3
   },
   "file_extension": ".py",
   "mimetype": "text/x-python",
   "name": "python",
   "nbconvert_exporter": "python",
   "pygments_lexer": "ipython3",
   "version": "3.6.13"
  }
 },
 "nbformat": 4,
 "nbformat_minor": 5
}
