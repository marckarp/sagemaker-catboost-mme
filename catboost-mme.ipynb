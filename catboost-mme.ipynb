{
 "cells": [
  {
   "cell_type": "markdown",
   "id": "1b85bde8",
   "metadata": {},
   "source": [
    "# Multi-Model Endpoint - CatBoost\n",
    "\n",
    "This example notebook will showcase how to use a custom container to host multiple CatBoost models. "
   ]
  },
  {
   "cell_type": "markdown",
   "id": "2a691b6c",
   "metadata": {},
   "source": [
    "## Load model and test local inference\n",
    "\n",
    "Example model is taken from this [CatBoost tutorial](https://github.com/catboost/tutorials/blob/master/python_tutorial_with_tasks.ipynb). We will load up the model locally using `CatBoostClassifier()`. `test_data.csv` contains a single row of test inference data."
   ]
  },
  {
   "cell_type": "code",
   "execution_count": null,
   "id": "640fcc88",
   "metadata": {},
   "outputs": [],
   "source": [
    "!pip install catboost"
   ]
  },
  {
   "cell_type": "code",
   "execution_count": 16,
   "id": "17a829a4",
   "metadata": {},
   "outputs": [],
   "source": [
    "from catboost import CatBoostClassifier, Pool as CatboostPool, cv\n",
    "import os\n",
    "import pandas\n",
    "model_file = CatBoostClassifier()\n",
    "model_file = model_file.load_model(\"catboost_model.bin\")\n",
    "df = pandas.read_csv(\"test_data.csv\")"
   ]
  },
  {
   "cell_type": "code",
   "execution_count": 17,
   "id": "105fb626",
   "metadata": {},
   "outputs": [
    {
     "name": "stdout",
     "output_type": "stream",
     "text": [
      "[[0.0203764 0.9796236]]\n"
     ]
    }
   ],
   "source": [
    "import pandas as pd\n",
    "import io\n",
    "import json\n",
    "\n",
    "out = model_file.predict_proba(df)\n",
    "print(out)"
   ]
  },
  {
   "cell_type": "markdown",
   "id": "5a59a253",
   "metadata": {},
   "source": [
    "## Create a model tar ball\n",
    "\n",
    "SageMaker requires our model to be packaged in a tar.gz file."
   ]
  },
  {
   "cell_type": "code",
   "execution_count": 18,
   "id": "7dc9daf8",
   "metadata": {},
   "outputs": [
    {
     "name": "stdout",
     "output_type": "stream",
     "text": [
      "catboost_model.bin\n"
     ]
    }
   ],
   "source": [
    "! tar -czvf catboost-model.tar.gz catboost_model.bin"
   ]
  },
  {
   "cell_type": "markdown",
   "id": "841d0fcf",
   "metadata": {},
   "source": [
    "## Upload 100 copies of the model to S3\n",
    "\n",
    "Multi-Model Endpoints require all our models to be in a specific S3 prefix. Here we upload 100 of them to our default bucket. "
   ]
  },
  {
   "cell_type": "code",
   "execution_count": 19,
   "id": "ac12d4a4",
   "metadata": {},
   "outputs": [
    {
     "name": "stdout",
     "output_type": "stream",
     "text": [
      "sagemaker-us-east-1-171503325295\n"
     ]
    }
   ],
   "source": [
    "import sagemaker\n",
    "\n",
    "sess = sagemaker.Session()\n",
    "s3_bucket=sess.default_bucket()  # Replace with your own bucket name if needed\n",
    "print(s3_bucket)"
   ]
  },
  {
   "cell_type": "markdown",
   "id": "8aac23d8",
   "metadata": {},
   "source": [
    "### Upload the model tar balls using boto3 with a unique name"
   ]
  },
  {
   "cell_type": "code",
   "execution_count": 20,
   "id": "5b76002d",
   "metadata": {},
   "outputs": [],
   "source": [
    "import boto3\n",
    "\n",
    "s3 = boto3.client('s3')\n",
    "for i in range(0,100):\n",
    "    with open(\"catboost-model.tar.gz\", \"rb\") as f:\n",
    "        s3.upload_fileobj(f, s3_bucket, \"catboost/catboost-model-{}.tar.gz\".format(i))\n"
   ]
  },
  {
   "cell_type": "markdown",
   "id": "2f300532",
   "metadata": {},
   "source": [
    "#### Upload the Bigger model"
   ]
  },
  {
   "cell_type": "code",
   "execution_count": 21,
   "id": "fc8f1d15",
   "metadata": {},
   "outputs": [],
   "source": [
    "import boto3\n",
    "\n",
    "s3 = boto3.client('s3')\n",
    "for i in range(0,100):\n",
    "    with open(\"./models/catboost-model-big.tar.gz\", \"rb\") as f:\n",
    "        s3.upload_fileobj(f, s3_bucket, \"catboost/catboost-model-big-{}.tar.gz\".format(i))\n",
    "\n"
   ]
  },
  {
   "cell_type": "markdown",
   "id": "f6448eba",
   "metadata": {},
   "source": [
    "### List all models in s3 prefix we will use for our Multi-Model Endpoint"
   ]
  },
  {
   "cell_type": "code",
   "execution_count": 23,
   "id": "e758d2dd",
   "metadata": {},
   "outputs": [
    {
     "name": "stdout",
     "output_type": "stream",
     "text": [
      "2022-06-26 23:41:53     184489 catboost-model-0.tar.gz\n",
      "2022-06-26 23:41:53     184489 catboost-model-1.tar.gz\n",
      "2022-06-26 23:41:54     184489 catboost-model-10.tar.gz\n",
      "2022-06-26 23:41:54     184489 catboost-model-11.tar.gz\n",
      "2022-06-26 23:41:54     184489 catboost-model-12.tar.gz\n",
      "2022-06-26 23:41:54     184489 catboost-model-13.tar.gz\n",
      "2022-06-26 23:41:54     184489 catboost-model-14.tar.gz\n",
      "2022-06-26 23:41:54     184489 catboost-model-15.tar.gz\n",
      "2022-06-26 23:41:54     184489 catboost-model-16.tar.gz\n",
      "2022-06-26 23:41:54     184489 catboost-model-17.tar.gz\n",
      "2022-06-26 23:41:55     184489 catboost-model-18.tar.gz\n",
      "2022-06-26 23:41:55     184489 catboost-model-19.tar.gz\n",
      "2022-06-26 23:41:53     184489 catboost-model-2.tar.gz\n",
      "2022-06-26 23:41:55     184489 catboost-model-20.tar.gz\n",
      "2022-06-26 23:41:55     184489 catboost-model-21.tar.gz\n",
      "2022-06-26 23:41:55     184489 catboost-model-22.tar.gz\n",
      "2022-06-26 23:41:55     184489 catboost-model-23.tar.gz\n",
      "2022-06-26 23:41:55     184489 catboost-model-24.tar.gz\n",
      "2022-06-26 23:41:55     184489 catboost-model-25.tar.gz\n",
      "2022-06-26 23:41:55     184489 catboost-model-26.tar.gz\n",
      "2022-06-26 23:41:55     184489 catboost-model-27.tar.gz\n",
      "2022-06-26 23:41:55     184489 catboost-model-28.tar.gz\n",
      "2022-06-26 23:41:55     184489 catboost-model-29.tar.gz\n",
      "2022-06-26 23:41:53     184489 catboost-model-3.tar.gz\n",
      "2022-06-26 23:41:56     184489 catboost-model-30.tar.gz\n",
      "2022-06-26 23:41:56     184489 catboost-model-31.tar.gz\n",
      "2022-06-26 23:41:56     184489 catboost-model-32.tar.gz\n",
      "2022-06-26 23:41:56     184489 catboost-model-33.tar.gz\n",
      "2022-06-26 23:41:56     184489 catboost-model-34.tar.gz\n",
      "2022-06-26 23:41:56     184489 catboost-model-35.tar.gz\n",
      "2022-06-26 23:41:56     184489 catboost-model-36.tar.gz\n",
      "2022-06-26 23:41:56     184489 catboost-model-37.tar.gz\n",
      "2022-06-26 23:41:56     184489 catboost-model-38.tar.gz\n",
      "2022-06-26 23:41:56     184489 catboost-model-39.tar.gz\n",
      "2022-06-26 23:41:53     184489 catboost-model-4.tar.gz\n",
      "2022-06-26 23:41:56     184489 catboost-model-40.tar.gz\n",
      "2022-06-26 23:41:56     184489 catboost-model-41.tar.gz\n",
      "2022-06-26 23:41:56     184489 catboost-model-42.tar.gz\n",
      "2022-06-26 23:41:56     184489 catboost-model-43.tar.gz\n",
      "2022-06-26 23:41:56     184489 catboost-model-44.tar.gz\n",
      "2022-06-26 23:41:57     184489 catboost-model-45.tar.gz\n",
      "2022-06-26 23:41:57     184489 catboost-model-46.tar.gz\n",
      "2022-06-26 23:41:57     184489 catboost-model-47.tar.gz\n",
      "2022-06-26 23:41:57     184489 catboost-model-48.tar.gz\n",
      "2022-06-26 23:41:57     184489 catboost-model-49.tar.gz\n",
      "2022-06-26 23:41:54     184489 catboost-model-5.tar.gz\n",
      "2022-06-26 23:41:57     184489 catboost-model-50.tar.gz\n",
      "2022-06-26 23:41:57     184489 catboost-model-51.tar.gz\n",
      "2022-06-26 23:41:57     184489 catboost-model-52.tar.gz\n",
      "2022-06-26 23:41:57     184489 catboost-model-53.tar.gz\n",
      "2022-06-26 23:41:57     184489 catboost-model-54.tar.gz\n",
      "2022-06-26 23:41:57     184489 catboost-model-55.tar.gz\n",
      "2022-06-26 23:41:57     184489 catboost-model-56.tar.gz\n",
      "2022-06-26 23:41:57     184489 catboost-model-57.tar.gz\n",
      "2022-06-26 23:41:57     184489 catboost-model-58.tar.gz\n",
      "2022-06-26 23:41:57     184489 catboost-model-59.tar.gz\n",
      "2022-06-26 23:41:54     184489 catboost-model-6.tar.gz\n",
      "2022-06-26 23:41:57     184489 catboost-model-60.tar.gz\n",
      "2022-06-26 23:41:57     184489 catboost-model-61.tar.gz\n",
      "2022-06-26 23:41:58     184489 catboost-model-62.tar.gz\n",
      "2022-06-26 23:41:58     184489 catboost-model-63.tar.gz\n",
      "2022-06-26 23:41:58     184489 catboost-model-64.tar.gz\n",
      "2022-06-26 23:41:58     184489 catboost-model-65.tar.gz\n",
      "2022-06-26 23:41:58     184489 catboost-model-66.tar.gz\n",
      "2022-06-26 23:41:58     184489 catboost-model-67.tar.gz\n",
      "2022-06-26 23:41:58     184489 catboost-model-68.tar.gz\n",
      "2022-06-26 23:41:58     184489 catboost-model-69.tar.gz\n",
      "2022-06-26 23:41:54     184489 catboost-model-7.tar.gz\n",
      "2022-06-26 23:41:58     184489 catboost-model-70.tar.gz\n",
      "2022-06-26 23:41:58     184489 catboost-model-71.tar.gz\n",
      "2022-06-26 23:41:58     184489 catboost-model-72.tar.gz\n",
      "2022-06-26 23:41:58     184489 catboost-model-73.tar.gz\n",
      "2022-06-26 23:41:58     184489 catboost-model-74.tar.gz\n",
      "2022-06-26 23:41:58     184489 catboost-model-75.tar.gz\n",
      "2022-06-26 23:41:58     184489 catboost-model-76.tar.gz\n",
      "2022-06-26 23:41:59     184489 catboost-model-77.tar.gz\n",
      "2022-06-26 23:41:59     184489 catboost-model-78.tar.gz\n",
      "2022-06-26 23:41:59     184489 catboost-model-79.tar.gz\n",
      "2022-06-26 23:41:54     184489 catboost-model-8.tar.gz\n",
      "2022-06-26 23:41:59     184489 catboost-model-80.tar.gz\n",
      "2022-06-26 23:41:59     184489 catboost-model-81.tar.gz\n",
      "2022-06-26 23:41:59     184489 catboost-model-82.tar.gz\n",
      "2022-06-26 23:41:59     184489 catboost-model-83.tar.gz\n",
      "2022-06-26 23:41:59     184489 catboost-model-84.tar.gz\n",
      "2022-06-26 23:41:59     184489 catboost-model-85.tar.gz\n",
      "2022-06-26 23:41:59     184489 catboost-model-86.tar.gz\n",
      "2022-06-26 23:41:59     184489 catboost-model-87.tar.gz\n",
      "2022-06-26 23:41:59     184489 catboost-model-88.tar.gz\n",
      "2022-06-26 23:41:59     184489 catboost-model-89.tar.gz\n",
      "2022-06-26 23:41:54     184489 catboost-model-9.tar.gz\n",
      "2022-06-26 23:42:00     184489 catboost-model-90.tar.gz\n",
      "2022-06-26 23:42:00     184489 catboost-model-91.tar.gz\n",
      "2022-06-26 23:42:00     184489 catboost-model-92.tar.gz\n",
      "2022-06-26 23:42:00     184489 catboost-model-93.tar.gz\n",
      "2022-06-26 23:42:00     184489 catboost-model-94.tar.gz\n",
      "2022-06-26 23:42:00     184489 catboost-model-95.tar.gz\n",
      "2022-06-26 23:42:00     184489 catboost-model-96.tar.gz\n",
      "2022-06-26 23:42:00     184489 catboost-model-97.tar.gz\n",
      "2022-06-26 23:42:00     184489 catboost-model-98.tar.gz\n",
      "2022-06-26 23:42:00     184489 catboost-model-99.tar.gz\n",
      "2022-06-26 23:42:00    9623121 catboost-model-big-0.tar.gz\n",
      "2022-06-26 23:42:01    9623121 catboost-model-big-1.tar.gz\n",
      "2022-06-26 23:42:03    9623121 catboost-model-big-10.tar.gz\n",
      "2022-06-26 23:42:04    9623121 catboost-model-big-11.tar.gz\n",
      "2022-06-26 23:42:04    9623121 catboost-model-big-12.tar.gz\n",
      "2022-06-26 23:42:04    9623121 catboost-model-big-13.tar.gz\n",
      "2022-06-26 23:42:04    9623121 catboost-model-big-14.tar.gz\n",
      "2022-06-26 23:42:05    9623121 catboost-model-big-15.tar.gz\n",
      "2022-06-26 23:42:05    9623121 catboost-model-big-16.tar.gz\n",
      "2022-06-26 23:42:05    9623121 catboost-model-big-17.tar.gz\n",
      "2022-06-26 23:42:06    9623121 catboost-model-big-18.tar.gz\n",
      "2022-06-26 23:42:06    9623121 catboost-model-big-19.tar.gz\n",
      "2022-06-26 23:42:01    9623121 catboost-model-big-2.tar.gz\n",
      "2022-06-26 23:42:06    9623121 catboost-model-big-20.tar.gz\n",
      "2022-06-26 23:42:06    9623121 catboost-model-big-21.tar.gz\n",
      "2022-06-26 23:42:07    9623121 catboost-model-big-22.tar.gz\n",
      "2022-06-26 23:42:07    9623121 catboost-model-big-23.tar.gz\n",
      "2022-06-26 23:42:07    9623121 catboost-model-big-24.tar.gz\n",
      "2022-06-26 23:42:08    9623121 catboost-model-big-25.tar.gz\n",
      "2022-06-26 23:42:08    9623121 catboost-model-big-26.tar.gz\n",
      "2022-06-26 23:42:08    9623121 catboost-model-big-27.tar.gz\n",
      "2022-06-26 23:42:08    9623121 catboost-model-big-28.tar.gz\n",
      "2022-06-26 23:42:09    9623121 catboost-model-big-29.tar.gz\n",
      "2022-06-26 23:42:01    9623121 catboost-model-big-3.tar.gz\n",
      "2022-06-26 23:42:09    9623121 catboost-model-big-30.tar.gz\n",
      "2022-06-26 23:42:09    9623121 catboost-model-big-31.tar.gz\n",
      "2022-06-26 23:42:09    9623121 catboost-model-big-32.tar.gz\n",
      "2022-06-26 23:42:10    9623121 catboost-model-big-33.tar.gz\n",
      "2022-06-26 23:42:10    9623121 catboost-model-big-34.tar.gz\n",
      "2022-06-26 23:42:10    9623121 catboost-model-big-35.tar.gz\n",
      "2022-06-26 23:42:11    9623121 catboost-model-big-36.tar.gz\n",
      "2022-06-26 23:42:11    9623121 catboost-model-big-37.tar.gz\n",
      "2022-06-26 23:42:11    9623121 catboost-model-big-38.tar.gz\n",
      "2022-06-26 23:42:12    9623121 catboost-model-big-39.tar.gz\n",
      "2022-06-26 23:42:02    9623121 catboost-model-big-4.tar.gz\n",
      "2022-06-26 23:42:12    9623121 catboost-model-big-40.tar.gz\n",
      "2022-06-26 23:42:12    9623121 catboost-model-big-41.tar.gz\n",
      "2022-06-26 23:42:12    9623121 catboost-model-big-42.tar.gz\n",
      "2022-06-26 23:42:13    9623121 catboost-model-big-43.tar.gz\n",
      "2022-06-26 23:42:13    9623121 catboost-model-big-44.tar.gz\n",
      "2022-06-26 23:42:13    9623121 catboost-model-big-45.tar.gz\n",
      "2022-06-26 23:42:14    9623121 catboost-model-big-46.tar.gz\n",
      "2022-06-26 23:42:14    9623121 catboost-model-big-47.tar.gz\n",
      "2022-06-26 23:42:14    9623121 catboost-model-big-48.tar.gz\n",
      "2022-06-26 23:42:14    9623121 catboost-model-big-49.tar.gz\n",
      "2022-06-26 23:42:02    9623121 catboost-model-big-5.tar.gz\n",
      "2022-06-26 23:42:15    9623121 catboost-model-big-50.tar.gz\n",
      "2022-06-26 23:42:15    9623121 catboost-model-big-51.tar.gz\n",
      "2022-06-26 23:42:15    9623121 catboost-model-big-52.tar.gz\n",
      "2022-06-26 23:42:16    9623121 catboost-model-big-53.tar.gz\n",
      "2022-06-26 23:42:16    9623121 catboost-model-big-54.tar.gz\n",
      "2022-06-26 23:42:16    9623121 catboost-model-big-55.tar.gz\n",
      "2022-06-26 23:42:17    9623121 catboost-model-big-56.tar.gz\n",
      "2022-06-26 23:42:17    9623121 catboost-model-big-57.tar.gz\n",
      "2022-06-26 23:42:17    9623121 catboost-model-big-58.tar.gz\n",
      "2022-06-26 23:42:17    9623121 catboost-model-big-59.tar.gz\n",
      "2022-06-26 23:42:02    9623121 catboost-model-big-6.tar.gz\n",
      "2022-06-26 23:42:18    9623121 catboost-model-big-60.tar.gz\n",
      "2022-06-26 23:42:18    9623121 catboost-model-big-61.tar.gz\n",
      "2022-06-26 23:42:18    9623121 catboost-model-big-62.tar.gz\n",
      "2022-06-26 23:42:19    9623121 catboost-model-big-63.tar.gz\n",
      "2022-06-26 23:42:19    9623121 catboost-model-big-64.tar.gz\n",
      "2022-06-26 23:42:19    9623121 catboost-model-big-65.tar.gz\n",
      "2022-06-26 23:42:19    9623121 catboost-model-big-66.tar.gz\n",
      "2022-06-26 23:42:20    9623121 catboost-model-big-67.tar.gz\n",
      "2022-06-26 23:42:20    9623121 catboost-model-big-68.tar.gz\n",
      "2022-06-26 23:42:20    9623121 catboost-model-big-69.tar.gz\n",
      "2022-06-26 23:42:02    9623121 catboost-model-big-7.tar.gz\n",
      "2022-06-26 23:42:21    9623121 catboost-model-big-70.tar.gz\n",
      "2022-06-26 23:42:21    9623121 catboost-model-big-71.tar.gz\n",
      "2022-06-26 23:42:21    9623121 catboost-model-big-72.tar.gz\n",
      "2022-06-26 23:42:21    9623121 catboost-model-big-73.tar.gz\n",
      "2022-06-26 23:42:22    9623121 catboost-model-big-74.tar.gz\n",
      "2022-06-26 23:42:22    9623121 catboost-model-big-75.tar.gz\n",
      "2022-06-26 23:42:23    9623121 catboost-model-big-76.tar.gz\n",
      "2022-06-26 23:42:23    9623121 catboost-model-big-77.tar.gz\n",
      "2022-06-26 23:42:23    9623121 catboost-model-big-78.tar.gz\n",
      "2022-06-26 23:42:27    9623121 catboost-model-big-79.tar.gz\n",
      "2022-06-26 23:42:03    9623121 catboost-model-big-8.tar.gz\n",
      "2022-06-26 23:42:27    9623121 catboost-model-big-80.tar.gz\n",
      "2022-06-26 23:42:28    9623121 catboost-model-big-81.tar.gz\n",
      "2022-06-26 23:42:28    9623121 catboost-model-big-82.tar.gz\n",
      "2022-06-26 23:42:28    9623121 catboost-model-big-83.tar.gz\n",
      "2022-06-26 23:42:28    9623121 catboost-model-big-84.tar.gz\n",
      "2022-06-26 23:42:29    9623121 catboost-model-big-85.tar.gz\n",
      "2022-06-26 23:42:29    9623121 catboost-model-big-86.tar.gz\n",
      "2022-06-26 23:42:29    9623121 catboost-model-big-87.tar.gz\n",
      "2022-06-26 23:42:30    9623121 catboost-model-big-88.tar.gz\n",
      "2022-06-26 23:42:30    9623121 catboost-model-big-89.tar.gz\n",
      "2022-06-26 23:42:03    9623121 catboost-model-big-9.tar.gz\n",
      "2022-06-26 23:42:30    9623121 catboost-model-big-90.tar.gz\n",
      "2022-06-26 23:42:31    9623121 catboost-model-big-91.tar.gz\n",
      "2022-06-26 23:42:31    9623121 catboost-model-big-92.tar.gz\n",
      "2022-06-26 23:42:31    9623121 catboost-model-big-93.tar.gz\n",
      "2022-06-26 23:42:31    9623121 catboost-model-big-94.tar.gz\n",
      "2022-06-26 23:42:32    9623121 catboost-model-big-95.tar.gz\n",
      "2022-06-26 23:42:33    9623121 catboost-model-big-96.tar.gz\n",
      "2022-06-26 23:42:33    9623121 catboost-model-big-97.tar.gz\n",
      "2022-06-26 23:42:33    9623121 catboost-model-big-98.tar.gz\n",
      "2022-06-26 23:42:33    9623121 catboost-model-big-99.tar.gz\n",
      "2022-05-25 20:48:57    6628029 catboost-model-v2.tar.gz\n"
     ]
    }
   ],
   "source": [
    "!aws s3 ls s3://$s3_bucket/catboost/"
   ]
  },
  {
   "cell_type": "markdown",
   "id": "d481120f",
   "metadata": {},
   "source": [
    "## Building the custom container"
   ]
  },
  {
   "cell_type": "markdown",
   "id": "4fec9d9a",
   "metadata": {},
   "source": [
    "The container folder in this example contains 3 files:\n",
    "```\n",
    "├── container\n",
    "│   ├── dockerd-entrypoint.py\n",
    "│   ├── Dockerfile\n",
    "│   └── model_handler.py\n",
    "```\n",
    "\n",
    "- `dockerd-entrypoint.py` is the entry point script that will start the multi model server.\n",
    "- `Dockerfile` contains the container definition that will be used to assemble the image. This include the packages that need to be installed.\n",
    "- `model_handler.py` is the script that will contain the logic to load up the model and make inference.\n",
    "\n",
    "Take a look through the files to see if there is any customization that you would like to do.\n",
    "Below cells highlight the main part of the files. \n"
   ]
  },
  {
   "cell_type": "markdown",
   "id": "6b98091f",
   "metadata": {},
   "source": [
    "### Install catboost in the `Dockerfile`"
   ]
  },
  {
   "cell_type": "code",
   "execution_count": 8,
   "id": "48def0a1",
   "metadata": {},
   "outputs": [
    {
     "name": "stdout",
     "output_type": "stream",
     "text": [
      "RUN pip3 --no-cache-dir install multi-model-server \\\n",
      "                                sagemaker-inference \\\n",
      "                                retrying \\\n",
      "                                catboost \\\n",
      "                                pandas\n"
     ]
    }
   ],
   "source": [
    "! sed -n '26,30p' container/Dockerfile"
   ]
  },
  {
   "cell_type": "markdown",
   "id": "5e3413cd",
   "metadata": {},
   "source": [
    "### Update `initialize` function in `model_handler.py` with logic to load up the model\n",
    "In this case we are using `CatBoostClassifier()`. Feel free to update the loading logic in this function to your needs."
   ]
  },
  {
   "cell_type": "code",
   "execution_count": 9,
   "id": "863b0581",
   "metadata": {},
   "outputs": [
    {
     "name": "stdout",
     "output_type": "stream",
     "text": [
      "    def initialize(self, ctx):\n",
      "        start = time.time()\n",
      "        self.device = 'cpu'\n",
      "        \n",
      "        properties = ctx.system_properties\n",
      "        self.device = 'cpu'\n",
      "        model_dir = properties.get('model_dir')\n",
      "        \n",
      "        print('model_dir {}'.format(model_dir))\n",
      "        print(os.system(\"ls {}\".format(model_dir)))\n",
      "\n",
      "        model_file = CatBoostClassifier()\n",
      "        \n",
      "        onlyfiles = [f for f in os.listdir(model_dir) if os.path.isfile(os.path.join(model_dir, f)) and f.endswith(\".bin\")]\n",
      "        print(f\"Modelhandler:model_file location::{model_dir}:: files:bin:={onlyfiles} :: going to load the first one::\")\n",
      "        #self.model = model_file = model_file.load_model(\"{}/catboost_model.bin\".format(model_dir))\n",
      "        self.model = model_file = model_file.load_model(onlyfiles[0])\n",
      "\n",
      "\n"
     ]
    }
   ],
   "source": [
    "! sed -n '22,40p' container/model_handler.py"
   ]
  },
  {
   "cell_type": "markdown",
   "id": "f291339d",
   "metadata": {},
   "source": [
    "### Update `handle` function in `model_handler.py` with logic to load up the model"
   ]
  },
  {
   "cell_type": "code",
   "execution_count": 10,
   "id": "0d5fb71b",
   "metadata": {},
   "outputs": [
    {
     "name": "stdout",
     "output_type": "stream",
     "text": [
      "        \n",
      "        start = time.time()\n",
      "        inference_output = dict(enumerate(inference_output.flatten(), 0))\n",
      "        print(f\" perf postprocess {(time.time() - start) * 1000} ms\")\n",
      "        return [inference_output]\n",
      "    \n",
      "    def handle(self, data, context):\n",
      "        \"\"\"\n",
      "        Call pre-process, inference and post-process functions\n",
      "        :param data: input data\n",
      "        :param context: mms context\n",
      "        \"\"\"\n",
      "        start = time.time()\n",
      "       \n",
      "        input_data = data[0]['body'].decode()\n",
      "        df = pd.read_csv(io.StringIO(input_data))\n"
     ]
    }
   ],
   "source": [
    "! sed -n '70,85p' container/model_handler.py"
   ]
  },
  {
   "cell_type": "markdown",
   "id": "2511c6b8",
   "metadata": {},
   "source": [
    "### Build and Push custom image to ECR"
   ]
  },
  {
   "cell_type": "code",
   "execution_count": 11,
   "id": "a074fe7c",
   "metadata": {},
   "outputs": [
    {
     "name": "stdout",
     "output_type": "stream",
     "text": [
      "Login Succeeded\n",
      "sha256:4c8bbad423da767b3079bbcff7c1addbf15538e3165ccf5b7dc749465bb23ee4\n",
      "The push refers to repository [171503325295.dkr.ecr.us-east-1.amazonaws.com/catboost-sagemaker-multimodel]\n",
      "2ea202b7122f: Preparing\n",
      "fae25108c4b1: Preparing\n",
      "dd6ee5da2792: Preparing\n",
      "12735dfd8b0e: Preparing\n",
      "85f683319bd3: Preparing\n",
      "2caf5a875703: Preparing\n",
      "53b84bb5ed79: Preparing\n",
      "fa60aeb2afcf: Preparing\n",
      "585a1508f408: Preparing\n",
      "3e549931e024: Preparing\n",
      "2caf5a875703: Waiting\n",
      "53b84bb5ed79: Waiting\n",
      "fa60aeb2afcf: Waiting\n",
      "585a1508f408: Waiting\n",
      "3e549931e024: Waiting\n",
      "2ea202b7122f: Layer already exists\n",
      "fae25108c4b1: Layer already exists\n",
      "12735dfd8b0e: Layer already exists\n",
      "85f683319bd3: Layer already exists\n",
      "dd6ee5da2792: Layer already exists\n",
      "2caf5a875703: Layer already exists\n",
      "53b84bb5ed79: Layer already exists\n",
      "fa60aeb2afcf: Layer already exists\n",
      "585a1508f408: Layer already exists\n",
      "3e549931e024: Layer already exists\n",
      "latest: digest: sha256:f662c9f7008f3dfc301c49da25224d655c8a0575554637d7c98837f530ea54bb size: 2407\n"
     ]
    },
    {
     "name": "stderr",
     "output_type": "stream",
     "text": [
      "WARNING! Using --password via the CLI is insecure. Use --password-stdin.\n",
      "WARNING! Your password will be stored unencrypted in /home/ec2-user/.docker/config.json.\n",
      "Configure a credential helper to remove this warning. See\n",
      "https://docs.docker.com/engine/reference/commandline/login/#credentials-store\n",
      "\n"
     ]
    }
   ],
   "source": [
    "%%sh\n",
    "\n",
    "# The name of our algorithm\n",
    "algorithm_name=catboost-sagemaker-multimodel\n",
    "\n",
    "cd container\n",
    "\n",
    "account=$(aws sts get-caller-identity --query Account --output text)\n",
    "\n",
    "# Get the region defined in the current configuration (default to us-west-2 if none defined)\n",
    "region=$(aws configure get region)\n",
    "region=${region:-us-east-1}\n",
    "\n",
    "fullname=\"${account}.dkr.ecr.${region}.amazonaws.com/${algorithm_name}:latest\"\n",
    "\n",
    "# If the repository doesn't exist in ECR, create it.\n",
    "aws ecr describe-repositories --repository-names \"${algorithm_name}\" > /dev/null 2>&1\n",
    "\n",
    "if [ $? -ne 0 ]\n",
    "then\n",
    "    aws ecr create-repository --repository-name \"${algorithm_name}\" > /dev/null\n",
    "fi\n",
    "\n",
    "# Get the login command from ECR and execute it directly\n",
    "$(aws ecr get-login --region ${region} --no-include-email)\n",
    "\n",
    "# Build the docker image locally with the image name and then push it to ECR\n",
    "# with the full name.\n",
    "\n",
    "docker build -q -t ${algorithm_name} .\n",
    "docker tag ${algorithm_name} ${fullname}\n",
    "\n",
    "docker push ${fullname}"
   ]
  },
  {
   "cell_type": "code",
   "execution_count": 27,
   "id": "147f7457",
   "metadata": {},
   "outputs": [],
   "source": [
    "import boto3\n",
    "from sagemaker import get_execution_role\n",
    "\n",
    "sm_client = boto3.client(service_name='sagemaker')\n",
    "runtime_sm_client = boto3.client(service_name='sagemaker-runtime')\n",
    "\n",
    "account_id = boto3.client('sts').get_caller_identity()['Account']\n",
    "region = boto3.Session().region_name\n",
    "\n",
    "role = get_execution_role()"
   ]
  },
  {
   "cell_type": "markdown",
   "id": "4aa05efa",
   "metadata": {},
   "source": [
    "### Create the SageMaker Multi-Model"
   ]
  },
  {
   "cell_type": "code",
   "execution_count": 28,
   "id": "52584fda",
   "metadata": {},
   "outputs": [
    {
     "name": "stdout",
     "output_type": "stream",
     "text": [
      "Model name: catboost-multimodel-2022-06-26-23-45-57\n",
      "Model data Url: s3://sagemaker-us-east-1-171503325295/catboost/\n",
      "Container image: 171503325295.dkr.ecr.us-east-1.amazonaws.com/catboost-sagemaker-multimodel:latest\n",
      "Model Arn: arn:aws:sagemaker:us-east-1:171503325295:model/catboost-multimodel-2022-06-26-23-45-57\n"
     ]
    }
   ],
   "source": [
    "from time import gmtime, strftime\n",
    "\n",
    "model_name = 'catboost-multimodel-' + strftime(\"%Y-%m-%d-%H-%M-%S\", gmtime())\n",
    "model_url = 's3://{}/catboost/'.format(s3_bucket) ## MODEL S3 URL\n",
    "container = '{}.dkr.ecr.{}.amazonaws.com/catboost-sagemaker-multimodel:latest'.format(account_id, region)\n",
    "instance_type = 'ml.m5.xlarge'\n",
    "\n",
    "print('Model name: ' + model_name)\n",
    "print('Model data Url: ' + model_url)\n",
    "print('Container image: ' + container)\n",
    "\n",
    "container = {\n",
    "    'Image': container,\n",
    "    'ModelDataUrl': model_url,\n",
    "    'Mode': 'MultiModel'\n",
    "}\n",
    "\n",
    "create_model_response = sm_client.create_model(\n",
    "    ModelName = model_name,\n",
    "    ExecutionRoleArn = role,\n",
    "    Containers = [container])\n",
    "\n",
    "print(\"Model Arn: \" + create_model_response['ModelArn'])"
   ]
  },
  {
   "cell_type": "markdown",
   "id": "de9a120b",
   "metadata": {},
   "source": [
    "### Create the SageMaker Endpoint Configuration\n"
   ]
  },
  {
   "cell_type": "code",
   "execution_count": 29,
   "id": "fe73c0d5",
   "metadata": {},
   "outputs": [
    {
     "name": "stdout",
     "output_type": "stream",
     "text": [
      "Endpoint config name: catboost-multimodel-config2022-06-26-23-46-04\n",
      "Endpoint config Arn: arn:aws:sagemaker:us-east-1:171503325295:endpoint-config/catboost-multimodel-config2022-06-26-23-46-04\n"
     ]
    }
   ],
   "source": [
    "endpoint_config_name = 'catboost-multimodel-config' + strftime(\"%Y-%m-%d-%H-%M-%S\", gmtime())\n",
    "print('Endpoint config name: ' + endpoint_config_name)\n",
    "\n",
    "create_endpoint_config_response = sm_client.create_endpoint_config(\n",
    "    EndpointConfigName = endpoint_config_name,\n",
    "    ProductionVariants=[{\n",
    "        'InstanceType': instance_type,\n",
    "        'InitialInstanceCount': 1,\n",
    "        'InitialVariantWeight': 1,\n",
    "        'ModelName': model_name,\n",
    "        'VariantName': 'AllTraffic'}])\n",
    "\n",
    "print(\"Endpoint config Arn: \" + create_endpoint_config_response['EndpointConfigArn'])"
   ]
  },
  {
   "cell_type": "markdown",
   "id": "2644451b",
   "metadata": {},
   "source": [
    "### Create the SageMaker Multi-Model Endpoint"
   ]
  },
  {
   "cell_type": "code",
   "execution_count": 30,
   "id": "861dc707",
   "metadata": {},
   "outputs": [
    {
     "name": "stdout",
     "output_type": "stream",
     "text": [
      "Endpoint name: catboost-multimodel-endpoint-2022-06-26-23-46-11\n",
      "Endpoint Arn: arn:aws:sagemaker:us-east-1:171503325295:endpoint/catboost-multimodel-endpoint-2022-06-26-23-46-11\n",
      "Endpoint Status: Creating\n",
      "Waiting for catboost-multimodel-endpoint-2022-06-26-23-46-11 endpoint to be in service...\n",
      "CPU times: user 219 ms, sys: 9.56 ms, total: 229 ms\n",
      "Wall time: 7min 31s\n"
     ]
    }
   ],
   "source": [
    "%%time\n",
    "\n",
    "import time\n",
    "\n",
    "endpoint_name = 'catboost-multimodel-endpoint-' + strftime(\"%Y-%m-%d-%H-%M-%S\", gmtime())\n",
    "print('Endpoint name: ' + endpoint_name)\n",
    "\n",
    "create_endpoint_response = sm_client.create_endpoint(\n",
    "    EndpointName=endpoint_name,\n",
    "    EndpointConfigName=endpoint_config_name)\n",
    "print('Endpoint Arn: ' + create_endpoint_response['EndpointArn'])\n",
    "\n",
    "resp = sm_client.describe_endpoint(EndpointName=endpoint_name)\n",
    "status = resp['EndpointStatus']\n",
    "print(\"Endpoint Status: \" + status)\n",
    "\n",
    "print('Waiting for {} endpoint to be in service...'.format(endpoint_name))\n",
    "waiter = sm_client.get_waiter('endpoint_in_service')\n",
    "waiter.wait(EndpointName=endpoint_name)"
   ]
  },
  {
   "cell_type": "markdown",
   "id": "c3187912",
   "metadata": {},
   "source": [
    "### Invoke each of the smaller 100 models"
   ]
  },
  {
   "cell_type": "code",
   "execution_count": 47,
   "id": "4bbd0304",
   "metadata": {},
   "outputs": [
    {
     "name": "stdout",
     "output_type": "stream",
     "text": [
      "{'0': 0.020376404499626855, '1': 0.9796235955003731}\n"
     ]
    }
   ],
   "source": [
    "for i in range (0,100):\n",
    "        response = runtime_sm_client.invoke_endpoint(\n",
    "                EndpointName=endpoint_name,\n",
    "                TargetModel=\"catboost-model-{}.tar.gz\".format(i),\n",
    "                Body=df.to_csv(index=False))\n",
    "        print(json.loads(response['Body'].read().decode('utf-8')))"
   ]
  },
  {
   "cell_type": "markdown",
   "id": "48295d10",
   "metadata": {},
   "source": [
    "### Invoke one of the smaller models 1000s times \n"
   ]
  },
  {
   "cell_type": "code",
   "execution_count": 52,
   "id": "0c19978f",
   "metadata": {},
   "outputs": [
    {
     "name": "stdout",
     "output_type": "stream",
     "text": [
      "\n",
      "Predictions for smaller model (end to end): \n",
      "\n",
      "\n",
      "P95: 37.55887746810912 ms\n",
      "\n",
      "P90: 33.966064453125 ms\n",
      "\n",
      "Average: 28.13196039199829 ms\n",
      "\n"
     ]
    }
   ],
   "source": [
    "import time\n",
    "import numpy as np\n",
    "results = []\n",
    "for i in range(0,1000):\n",
    "    start = time.time()\n",
    "    response = runtime_sm_client.invoke_endpoint(\n",
    "                EndpointName=endpoint_name,\n",
    "                TargetModel=\"catboost-model-1.tar.gz\",\n",
    "                Body=df.to_csv(index=False))\n",
    "    results.append((time.time() - start) * 1000)\n",
    "print(\"\\nPredictions for smaller model (end to end): \\n\")\n",
    "print('\\nP95: ' + str(np.percentile(results, 95)) + ' ms\\n')    \n",
    "print('P90: ' + str(np.percentile(results, 90)) + ' ms\\n')\n",
    "print('Average: ' + str(np.average(results)) + ' ms\\n')"
   ]
  },
  {
   "cell_type": "markdown",
   "id": "f58a5537",
   "metadata": {},
   "source": [
    "*It is also possible to add new models on demand by uploading the tar balls to the S3 prefix*."
   ]
  },
  {
   "cell_type": "markdown",
   "id": "fda7bb75",
   "metadata": {},
   "source": [
    "### Invoke the bigger model to Test same container managing multiple model types"
   ]
  },
  {
   "cell_type": "code",
   "execution_count": 25,
   "id": "3912fd0f",
   "metadata": {},
   "outputs": [
    {
     "data": {
      "text/plain": [
       "2638"
      ]
     },
     "execution_count": 25,
     "metadata": {},
     "output_type": "execute_result"
    }
   ],
   "source": [
    "import pandas as pd\n",
    "continue_var = ['I' + str(i) for i in range(1, 14)]\n",
    "cat_features = ['C' + str(i) for i in range(1,27)]\n",
    "col_names = ['Label'] + continue_var + cat_features\n",
    "\n",
    "test_data_set_end_point = pd.read_csv('./data/dac_sample_small.txt', sep='\\t', names=col_names).fillna(0)\n",
    "test_data_set_end_point = test_data_set_end_point.iloc[:, 1:] # remove the LABEL for predictions \n",
    "\n",
    "payload=test_data_set_end_point.to_csv(index=False)\n",
    "len(payload)"
   ]
  },
  {
   "cell_type": "code",
   "execution_count": 32,
   "id": "a02a7692",
   "metadata": {},
   "outputs": [
    {
     "name": "stdout",
     "output_type": "stream",
     "text": [
      "{'0': 0.0009840355032754156, '1': 0.9990159644967246, '2': 0.015149877666872924, '3': 0.9848501223331271, '4': 0.890075999848484, '5': 0.10992400015151606, '6': 0.9999999998034538, '7': 1.9654622555312898e-10, '8': 0.9838270558728023, '9': 0.016172944127197726, '10': 0.000477799986809635, '11': 0.9995222000131904, '12': 0.9999999999637554, '13': 3.6244516847519683e-11, '14': 0.999989377804934, '15': 1.0622195066015204e-05, '16': 0.9999999993004461, '17': 6.995538781619641e-10, '18': 0.9999189651246768, '19': 8.103487532315886e-05}\n"
     ]
    }
   ],
   "source": [
    "response = runtime_sm_client.invoke_endpoint(\n",
    "            EndpointName=endpoint_name,\n",
    "            TargetModel=\"catboost-model-big-{}.tar.gz\".format(i),\n",
    "            Body=payload)\n",
    "print(json.loads(response['Body'].read().decode('utf-8')))"
   ]
  },
  {
   "cell_type": "markdown",
   "id": "dd43dc7a",
   "metadata": {},
   "source": [
    "### Invoke one of the bigger models 1000s times \n"
   ]
  },
  {
   "cell_type": "code",
   "execution_count": 53,
   "id": "55a50b8a",
   "metadata": {},
   "outputs": [
    {
     "name": "stdout",
     "output_type": "stream",
     "text": [
      "\n",
      "Predictions for big model (end to end): \n",
      "\n",
      "\n",
      "P95: 39.060032367706285 ms\n",
      "\n",
      "P90: 36.721587181091316 ms\n",
      "\n",
      "Average: 32.29228758811951 ms\n",
      "\n"
     ]
    }
   ],
   "source": [
    "import time\n",
    "import numpy as np\n",
    "results = []\n",
    "for i in range(0,1000):\n",
    "    start = time.time()\n",
    "    response = runtime_sm_client.invoke_endpoint(\n",
    "                EndpointName=endpoint_name,\n",
    "                TargetModel=\"catboost-model-big-1.tar.gz\",\n",
    "                Body=payload)\n",
    "    results.append((time.time() - start) * 1000)\n",
    "print(\"\\nPredictions for big model (end to end): \\n\")\n",
    "print('\\nP95: ' + str(np.percentile(results, 95)) + ' ms\\n')    \n",
    "print('P90: ' + str(np.percentile(results, 90)) + ' ms\\n')\n",
    "print('Average: ' + str(np.average(results)) + ' ms\\n')"
   ]
  },
  {
   "cell_type": "code",
   "execution_count": null,
   "id": "8c77beae",
   "metadata": {},
   "outputs": [],
   "source": []
  }
 ],
 "metadata": {
  "kernelspec": {
   "display_name": "conda_pytorch_p36",
   "language": "python",
   "name": "conda_pytorch_p36"
  },
  "language_info": {
   "codemirror_mode": {
    "name": "ipython",
    "version": 3
   },
   "file_extension": ".py",
   "mimetype": "text/x-python",
   "name": "python",
   "nbconvert_exporter": "python",
   "pygments_lexer": "ipython3",
   "version": "3.6.13"
  }
 },
 "nbformat": 4,
 "nbformat_minor": 5
}
